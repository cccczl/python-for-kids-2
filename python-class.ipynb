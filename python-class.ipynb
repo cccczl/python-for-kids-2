{
 "cells": [
  {
   "cell_type": "markdown",
   "metadata": {},
   "source": [
    "### Print\n",
    "\n",
    "Print an object to the console. "
   ]
  },
  {
   "cell_type": "code",
   "execution_count": null,
   "metadata": {},
   "outputs": [],
   "source": [
    "print(\"Hello World\")"
   ]
  },
  {
   "cell_type": "code",
   "execution_count": null,
   "metadata": {},
   "outputs": [],
   "source": [
    "print(100)"
   ]
  },
  {
   "cell_type": "code",
   "execution_count": null,
   "metadata": {},
   "outputs": [],
   "source": [
    "print(True)"
   ]
  },
  {
   "cell_type": "markdown",
   "metadata": {},
   "source": [
    "### Data Types\n",
    "Commonly used data types."
   ]
  },
  {
   "cell_type": "code",
   "execution_count": null,
   "metadata": {},
   "outputs": [],
   "source": [
    "import datetime as dt # import datetime module\n",
    "\n",
    "num = 102                   # integer\n",
    "text = \"Hello World\"        # string\n",
    "boolean = True              # boolean\n",
    "date = dt.datetime.now()    # datetime\n",
    "decimal = 10.2              # float\n",
    "\n",
    "print(num)\n",
    "print(text)\n",
    "print(boolean)\n",
    "print(date)\n",
    "print(decimal)\n"
   ]
  },
  {
   "cell_type": "code",
   "execution_count": null,
   "metadata": {},
   "outputs": [],
   "source": [
    "# Let's find the data type of the variables\n",
    "print(type(num))\n",
    "print(type(text))\n",
    "print(type(boolean))\n",
    "print(type(date))\n",
    "print(type(decimal))"
   ]
  },
  {
   "cell_type": "code",
   "execution_count": null,
   "metadata": {},
   "outputs": [],
   "source": [
    "print(num+num)          # addition\n",
    "print(text+text)        # concatenation\n",
    "print(boolean+boolean)  # addition"
   ]
  },
  {
   "cell_type": "code",
   "execution_count": null,
   "metadata": {},
   "outputs": [],
   "source": [
    "# Convert the type of the variables\n",
    "print(num)\n",
    "print(type(num)) # integer\n",
    "\n",
    "print(\"\")\n",
    "print(float(num))\n",
    "print(type(float(num))) # float\n",
    "\n",
    "print(\"\")\n",
    "print(str(num))\n",
    "print(type(str(num))) # string"
   ]
  },
  {
   "cell_type": "markdown",
   "metadata": {},
   "source": [
    "### String data type\n"
   ]
  },
  {
   "cell_type": "code",
   "execution_count": null,
   "metadata": {},
   "outputs": [],
   "source": [
    "str = \"Hello world\" # string\n",
    "\n",
    "# all lower case\n",
    "print(str.lower()) \n",
    "\n",
    "# all upper case\n",
    "print(str.upper()) \n",
    "\n",
    "# capitalize\n",
    "print(str.capitalize())\n",
    "\n",
    "# title\n",
    "print(str.title())\n",
    "\n",
    "# swap case\n",
    "print(str.swapcase())\n",
    "\n",
    "# length\n",
    "print(len(str))\n",
    "\n",
    "# replace\n",
    "print(str.replace(\"world\", \"class\"))\n",
    "\n",
    "# split\n",
    "print(str.split(\" \"))\n",
    "\n",
    "# strip\n",
    "str = \"   Hello World   \"\n",
    "print(str.strip())"
   ]
  },
  {
   "cell_type": "code",
   "execution_count": null,
   "metadata": {},
   "outputs": [],
   "source": [
    "# More on string\n",
    "\n",
    "# multi line string\n",
    "str = \"\"\"Hello, \n",
    "I am writing to you in regards to the Python class. \n",
    "\n",
    "Regards,\n",
    "Wriju\"\"\"\n",
    "\n",
    "print(str) "
   ]
  },
  {
   "cell_type": "code",
   "execution_count": null,
   "metadata": {},
   "outputs": [],
   "source": [
    "# string formatting\n",
    "name = \"Wriju\"\n",
    "age = 55\n",
    "print(\"Hello, my name is %s and I am %d years old\" % (name, age))       # old style\n",
    "\n",
    "print(\"Hello, my name is {} and I am {} years old\".format(name, age))   # new style\n",
    "\n",
    "print(\"Hello, my name is {0} and I am {1} years old\".format(age, name)) # new style, position based\n"
   ]
  },
  {
   "cell_type": "code",
   "execution_count": null,
   "metadata": {},
   "outputs": [],
   "source": [
    "# find in the string\n",
    "str = \"Hello World\"\n",
    "print(str.find(\"World\")) # 6 - position of the word \"World\"\n",
    "print(str.find(\"world\")) # -1 - word not found"
   ]
  },
  {
   "cell_type": "code",
   "execution_count": null,
   "metadata": {},
   "outputs": [],
   "source": [
    "bigstr = \" A quick brown fox jumps over the lazy dog \"\n",
    "x = \"ox\" in bigstr # True\n",
    "print(x)"
   ]
  },
  {
   "cell_type": "code",
   "execution_count": null,
   "metadata": {},
   "outputs": [],
   "source": [
    "# special characters in string\n",
    "print(\"Hello \\n World\") # new line\n",
    "print(\"Hello \\t World\") # tab\n",
    "print(\"Hello \\\\ World\") # backslash\n",
    "print(\"Hello \\\" World\") # double quote\n",
    "print(\"Hello \\' World\") # single quote\n"
   ]
  },
  {
   "cell_type": "markdown",
   "metadata": {},
   "source": [
    "### Condition"
   ]
  },
  {
   "cell_type": "code",
   "execution_count": null,
   "metadata": {},
   "outputs": [],
   "source": [
    "a = 10\n",
    "b = 20\n",
    "\n",
    "if a > b: \n",
    "    print(\"a is greater than b\")\n",
    "else:\n",
    "    print(\"a is not greater than b\")\n",
    "\n",
    "    "
   ]
  },
  {
   "cell_type": "code",
   "execution_count": null,
   "metadata": {},
   "outputs": [],
   "source": [
    "a = 10\n",
    "b = 20\n",
    "c = 30\n",
    "\n",
    "if a > b:\n",
    "    print(\"a is greater than b\")\n",
    "elif b > c: \n",
    "    print(\"b is greater than c\")\n",
    "else:\n",
    "    print(\"a is not greater than b and b is not greater than c\")\n",
    "    "
   ]
  },
  {
   "cell_type": "code",
   "execution_count": null,
   "metadata": {},
   "outputs": [],
   "source": [
    "# nested if statement\n",
    "a = 10\n",
    "b = 20\n",
    "c = 30\n",
    "\n",
    "if a > b:\n",
    "    print(\"a is greater than b\")\n",
    "else:\n",
    "    if b > c:\n",
    "        print(\"b is greater than c\")\n",
    "    else:\n",
    "        print(\"a is not greater than b and b is not greater than c\")"
   ]
  },
  {
   "cell_type": "markdown",
   "metadata": {},
   "source": [
    "> Other operators are `<, <=, >, >=, ==, !=`"
   ]
  },
  {
   "cell_type": "markdown",
   "metadata": {},
   "source": [
    "### Collections \n",
    "- List\n",
    "- Tuple\n",
    "- Set\n",
    "- Dictionary"
   ]
  },
  {
   "cell_type": "markdown",
   "metadata": {},
   "source": [
    "### List - Collection"
   ]
  },
  {
   "cell_type": "code",
   "execution_count": null,
   "metadata": {},
   "outputs": [],
   "source": [
    "# List collection\n",
    "# list is a collection of items\n",
    "# list is a mutable collection\n",
    "# list is a ordered collection\n",
    "# list can contain duplicate items\n",
    "# list can contain different data types\n",
    "# list can be accessed by index\n",
    "# list can be sliced\n",
    "# list can be sorted\n",
    "# list can be nested\n",
    "\n",
    "# List methods\n",
    "theList = [1, 2, 6, 4, 5]\n",
    "print(theList)          # print the list\n",
    "print(type(theList))    # print the type of the list\n",
    "print(len(theList))     # print the length of the list\n",
    "print(theList[0])       # print the first item of the list\n",
    "print(theList.sort())   # sort the list\n",
    "\n",
    "theList.insert(0, 9)    # insert at the beginning\n",
    "print(theList)\n"
   ]
  },
  {
   "cell_type": "markdown",
   "metadata": {},
   "source": [
    "### Tuple - Collection"
   ]
  },
  {
   "cell_type": "code",
   "execution_count": null,
   "metadata": {},
   "outputs": [],
   "source": [
    "# Tuple collection\n",
    "\n",
    "# tuple is a collection of items\n",
    "# tuple is a immutable collection\n",
    "# tuple is a ordered collection\n",
    "# tuple can contain duplicate items\n",
    "\n",
    "# tuple can contain different data types\n",
    "\n",
    "# tuple can be accessed by index\n",
    "# tuple can be sliced\n",
    "# tuple can be nested\n",
    "\n",
    "# Tuple methods\n",
    "theTuple = (1, 2, 6, 4, 5, 5, 5, \"numbers\", True)\n",
    "print(theTuple)         # print the tuple\n",
    "print(type(theTuple))   # print the type of the tuple\n",
    "print(len(theTuple))    # print the length of the tuple\n",
    "print(theTuple[0])      # print the first item of the tuple\n",
    "\n",
    "# immutable hence there will be an error. \n",
    "# Uncomment to see the error\n",
    "# theTuple.add(9) \n",
    "# print(theTuple)"
   ]
  },
  {
   "cell_type": "markdown",
   "metadata": {},
   "source": [
    "### Set - Collection"
   ]
  },
  {
   "cell_type": "code",
   "execution_count": null,
   "metadata": {},
   "outputs": [],
   "source": [
    "# Set collection\n",
    "\n",
    "# set is a collection of items\n",
    "# set is a mutable collection\n",
    "# set is a unordered collection\n",
    "# set can not contain duplicate items\n",
    "# set can contain different data types\n",
    "# set can not be accessed by index\n",
    "# set can not be sliced\n",
    "# set can not be nested\n",
    "\n",
    "# Set methods\n",
    "theSet = {1, 2, 6, 4, 5, 5, 5, \"numbers\", True} # duplicate items are removed\n",
    "print(theSet)       # print the set           \n",
    "print(type(theSet)) # print the type of the set\n",
    "print(len(theSet))  # print the length of the set\n",
    "\n",
    "theSet.add(10)      # add an item to the set\n",
    "print(theSet)\n"
   ]
  },
  {
   "cell_type": "markdown",
   "metadata": {},
   "source": [
    "### Dictionary - Collection"
   ]
  },
  {
   "cell_type": "code",
   "execution_count": null,
   "metadata": {},
   "outputs": [],
   "source": [
    "# Dictionary collection\n",
    "\n",
    "# dictionary is a collection of items\n",
    "# dictionary is a mutable collection\n",
    "# dictionary is a unordered collection\n",
    "# dictionary can not contain duplicate items\n",
    "# dictionary can contain different data types\n",
    "# dictionary can be accessed by key\n",
    "# dictionary can not be sliced\n",
    "# dictionary can be nested\n",
    "\n",
    "# Dictionary methods\n",
    "theDict = {\n",
    "    1: \"one\", \n",
    "    2: \"two\", \n",
    "    3: \"three\"\n",
    "}\n",
    "\n",
    "print(theDict)          # print the dictionary\n",
    "print(type(theDict))    # print the type of the dictionary\n",
    "print(len(theDict))     # print the length of the dictionary\n",
    "print(theDict[1])       # access by key\n",
    "print(theDict.get(3))   # same as above\n",
    "print(theDict.keys())   # get all the keys\n",
    "print(theDict.values()) # get all the values\n",
    "print(theDict.items())  # get all the items\n",
    "print(theDict.pop(1))   # remove by key\n",
    "print(theDict)          # print the dictionary"
   ]
  },
  {
   "cell_type": "markdown",
   "metadata": {},
   "source": [
    "### For loop"
   ]
  },
  {
   "cell_type": "code",
   "execution_count": null,
   "metadata": {},
   "outputs": [],
   "source": [
    "# for loop\n",
    "theList = [1, 2, 6, 4, 5]\n",
    "\n",
    "for item in theList:        # item is a variable\n",
    "    print(item)"
   ]
  },
  {
   "cell_type": "code",
   "execution_count": null,
   "metadata": {},
   "outputs": [],
   "source": [
    "# for loop with range\n",
    "for item in range(1, 10):       # 10 is not included\n",
    "    print(item)"
   ]
  },
  {
   "cell_type": "code",
   "execution_count": null,
   "metadata": {},
   "outputs": [],
   "source": [
    "# for loop with range and step\n",
    "for item in range(1, 10, 2):    # start, end, step\n",
    "    print(item)"
   ]
  },
  {
   "cell_type": "code",
   "execution_count": null,
   "metadata": {},
   "outputs": [],
   "source": [
    "# for loop in string collection\n",
    "theString = \"Hello World. I am learning Python.\"\n",
    "\n",
    "for item in theString:      # iterate through each character\n",
    "    print(item)"
   ]
  },
  {
   "cell_type": "code",
   "execution_count": null,
   "metadata": {},
   "outputs": [],
   "source": [
    "# break a loop upon a condition\n",
    "theString = \"Hello World. Hey, I am learning Python.\"\n",
    "\n",
    "for item in theString:\n",
    "    if item == \",\":         # break the loop if comma is found\n",
    "        break\n",
    "    print(item)"
   ]
  },
  {
   "cell_type": "markdown",
   "metadata": {},
   "source": [
    "### While Loop"
   ]
  },
  {
   "cell_type": "code",
   "execution_count": null,
   "metadata": {},
   "outputs": [],
   "source": [
    "# while loop\n",
    "\n",
    "# while loop with break\n",
    "i = 1\n",
    "while i < 10:\n",
    "    print(i)\n",
    "    if i == 5:\n",
    "        break        # break the loop if i is 5\n",
    "    i += 1\n",
    "    "
   ]
  },
  {
   "cell_type": "code",
   "execution_count": null,
   "metadata": {},
   "outputs": [],
   "source": [
    "# while loop with continue\n",
    "i = 1\n",
    "while i < 10:\n",
    "    i += 1\n",
    "    if i == 5:\n",
    "        continue     # skip the rest of the code and continue the loop\n",
    "    print(i)\n",
    "    "
   ]
  },
  {
   "cell_type": "code",
   "execution_count": null,
   "metadata": {},
   "outputs": [],
   "source": [
    "# while loop with else\n",
    "i = 1\n",
    "while i < 10:\n",
    "    print(i)\n",
    "    i += 1\n",
    "else:           # else will be executed when the condition is false\n",
    "    print(\"i is not less than 10\")"
   ]
  },
  {
   "cell_type": "markdown",
   "metadata": {},
   "source": [
    "### Function / Method"
   ]
  },
  {
   "cell_type": "code",
   "execution_count": null,
   "metadata": {},
   "outputs": [],
   "source": [
    "# function with no parameter\n",
    "def sayHello():\n",
    "    print(\"Hello World\")\n",
    "\n",
    "sayHello()"
   ]
  },
  {
   "cell_type": "code",
   "execution_count": null,
   "metadata": {},
   "outputs": [],
   "source": [
    "# function with parameter\n",
    "def sayHello(name):\n",
    "    print(\"Hello \" + name)  # concatenate the name with the string\n",
    "\n",
    "sayHello(\"Wriju\")"
   ]
  },
  {
   "cell_type": "code",
   "execution_count": null,
   "metadata": {},
   "outputs": [],
   "source": [
    "# function with parameter and return value\n",
    "def sayHello(name):\n",
    "    return \"Hello \" + name  # concatenate the name with the string\n",
    "\n",
    "print(sayHello(\"Wriju\"))"
   ]
  },
  {
   "cell_type": "code",
   "execution_count": null,
   "metadata": {},
   "outputs": [],
   "source": [
    "# function with parameter and default value\n",
    "def sayHello(name=\"World\"):\n",
    "    return \"Hello \" + name # concatenate the name with the string\n",
    "\n",
    "print(sayHello())"
   ]
  },
  {
   "cell_type": "markdown",
   "metadata": {},
   "source": [
    "### Error handling"
   ]
  },
  {
   "cell_type": "code",
   "execution_count": null,
   "metadata": {},
   "outputs": [],
   "source": [
    "# exception handling\n",
    "x = 100\n",
    "try:\n",
    "    print(x/0)  # division by zero\n",
    "except:\n",
    "    print(\"An exception occurred\")"
   ]
  },
  {
   "cell_type": "code",
   "execution_count": null,
   "metadata": {},
   "outputs": [],
   "source": [
    "# exception handling with specific exception\n",
    "x = 100\n",
    "try:\n",
    "    print(x/0)  # division by zero\n",
    "except ZeroDivisionError:\n",
    "    print(\"A ZeroDivisionError exception occurred. You can not divide by zero.\")"
   ]
  },
  {
   "cell_type": "code",
   "execution_count": null,
   "metadata": {},
   "outputs": [],
   "source": [
    "# exception halding with specific exception and else\n",
    "x = 100\n",
    "try:\n",
    "    print(x/1)  # division by zero\n",
    "except ZeroDivisionError:\n",
    "    print(\"A ZeroDivisionError exception occurred. You can not divide by zero.\")\n",
    "else:\n",
    "    print(\"No exception occurred\")"
   ]
  },
  {
   "cell_type": "markdown",
   "metadata": {},
   "source": [
    "### Input"
   ]
  },
  {
   "cell_type": "code",
   "execution_count": null,
   "metadata": {},
   "outputs": [],
   "source": [
    "\n",
    "name = input(\"Enter your name: \") # input from user\n",
    "print(\"Hello \" + name)\n",
    "\n",
    "# input from user with type conversion\n",
    "num = int(input(\"Enter a number: \"))\n",
    "print(num)\n"
   ]
  },
  {
   "cell_type": "markdown",
   "metadata": {},
   "source": [
    "### File Handling\n"
   ]
  },
  {
   "cell_type": "code",
   "execution_count": null,
   "metadata": {},
   "outputs": [],
   "source": [
    "# file handling - write\n",
    "f = open(\"test.txt\", \"w\")   # open a file in write mode\n",
    "f.write(\"Hello World.\")     # write to the file\n",
    "f.close()                   # close the file"
   ]
  },
  {
   "cell_type": "code",
   "execution_count": null,
   "metadata": {},
   "outputs": [],
   "source": [
    "# file handling - read\n",
    "f = open(\"test.txt\", \"r\")   # open a file in read mode\n",
    "print(f.read())             # read the file\n",
    "f.close()\n"
   ]
  },
  {
   "cell_type": "code",
   "execution_count": null,
   "metadata": {},
   "outputs": [],
   "source": [
    "# file handling - read in function\n",
    "def readFile():\n",
    "    try:\n",
    "        f = open(\"test.txt\", \"r\")\n",
    "        print(f.read())\n",
    "        f.close()\n",
    "    except:\n",
    "        print(\"File not found to read.\")\n",
    "\n",
    "readFile()"
   ]
  },
  {
   "cell_type": "code",
   "execution_count": null,
   "metadata": {},
   "outputs": [],
   "source": [
    "# file handling - append\n",
    "f = open(\"test.txt\", \"a\")       # open a file in append mode\n",
    "f.write(\" Hello World again.\")  # append to the file\n",
    "f.close()\n",
    "\n",
    "readFile()"
   ]
  },
  {
   "cell_type": "code",
   "execution_count": null,
   "metadata": {},
   "outputs": [],
   "source": [
    "# file handling - delete\n",
    "import os\n",
    "\n",
    "try:\n",
    "    os.remove(\"test.txt\")               # delete the file\n",
    "except:\n",
    "    print(\"No file found to delete.\")   # file not found\n",
    "\n",
    "readFile()                              # as the file is deleted above, it will not be found"
   ]
  }
 ],
 "metadata": {
  "kernelspec": {
   "display_name": "Python 3",
   "language": "python",
   "name": "python3"
  },
  "language_info": {
   "codemirror_mode": {
    "name": "ipython",
    "version": 3
   },
   "file_extension": ".py",
   "mimetype": "text/x-python",
   "name": "python",
   "nbconvert_exporter": "python",
   "pygments_lexer": "ipython3",
   "version": "3.8.10"
  }
 },
 "nbformat": 4,
 "nbformat_minor": 2
}
